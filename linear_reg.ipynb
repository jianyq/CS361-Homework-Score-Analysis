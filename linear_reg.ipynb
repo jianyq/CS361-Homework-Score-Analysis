{
 "cells": [
  {
   "cell_type": "code",
   "execution_count": 60,
   "metadata": {},
   "outputs": [
    {
     "name": "stdout",
     "output_type": "stream",
     "text": [
      "Accuracy: 0.5\n",
      "Mean Squared Error: 454.59267933162926\n",
      "R^2 Score: 0.18515071572160635\n"
     ]
    },
    {
     "ename": "",
     "evalue": "",
     "output_type": "error",
     "traceback": [
      "\u001b[1;31mThe Kernel crashed while executing code in the the current cell or a previous cell. Please review the code in the cell(s) to identify a possible cause of the failure. Click <a href='https://aka.ms/vscodeJupyterKernelCrash'>here</a> for more info. View Jupyter <a href='command:jupyter.viewOutput'>log</a> for further details."
     ]
    }
   ],
   "source": [
    "import pandas as pd\n",
    "from sklearn.model_selection import train_test_split\n",
    "from sklearn.linear_model import LinearRegression\n",
    "from sklearn.metrics import mean_squared_error, r2_score\n",
    "\n",
    "# Sample data\n",
    "# data = {\n",
    "#     \"randNumCol\": [1, 2, 3, 4, 5],  # example student IDs\n",
    "#     \"HW1\": [90, 85, 78, 88, 92],\n",
    "#     \"HW2\": [89, 87, 79, 86, 90],\n",
    "#     # ... Add values for HW3 to HW9\n",
    "#     \"HW10\": [91, 88, 80, 85, 89],\n",
    "#     \"mid1\": [88, 86, 79, 84, 87],\n",
    "# }\n",
    "# df = pd.DataFrame(data)\n",
    "df = pd.read_csv(f'CS361_CourseDev_Trend\\data_total.csv')\n",
    "# fill NaN values with 0\n",
    "df = df.fillna(0)\n",
    "# Features and Target\n",
    "X = df.loc[:, 'HW1':'HW10']\n",
    "y = df['mid1']\n",
    "\n",
    "# Split the data into training and test sets\n",
    "X_train, X_test, y_train, y_test = train_test_split(X, y, test_size=0.2, random_state=42)\n",
    "\n",
    "# Create a linear regression model\n",
    "regressor = LinearRegression()\n",
    "regressor.fit(X_train, y_train)\n",
    "\n",
    "# Predict on the test data\n",
    "y_pred = regressor.predict(X_test)\n",
    "\n",
    "# Evaluate the model\n",
    "mse = mean_squared_error(y_test, y_pred)\n",
    "r2 = r2_score(y_test, y_pred)\n",
    "# Evaluate the accuracy of the model with a interval of 5\n",
    "accuracy = 0\n",
    "for i in range(len(y_pred)):\n",
    "    if abs(y_pred[i] - y_test.iloc[i]) <= 12.5:\n",
    "        accuracy += 1\n",
    "accuracy = accuracy / len(y_pred)\n",
    "print(f\"Accuracy: {accuracy}\")\n",
    "print(f\"Mean Squared Error: {mse}\")\n",
    "print(f\"R^2 Score: {r2}\")\n",
    "\n",
    "\n",
    "# To predict for a new student\n",
    "# new_student_data = [[95, 93, ..., 92]]  # Replace with actual HW1-HW10 scores\n",
    "# predicted_mid1 = regressor.predict(new_student_data)\n",
    "# print(f\"Predicted mid1 score for the new student: {predicted_mid1[0]}\")\n"
   ]
  }
 ],
 "metadata": {
  "kernelspec": {
   "display_name": "jyq",
   "language": "python",
   "name": "python3"
  },
  "language_info": {
   "codemirror_mode": {
    "name": "ipython",
    "version": 3
   },
   "file_extension": ".py",
   "mimetype": "text/x-python",
   "name": "python",
   "nbconvert_exporter": "python",
   "pygments_lexer": "ipython3",
   "version": "3.10.11"
  },
  "orig_nbformat": 4
 },
 "nbformat": 4,
 "nbformat_minor": 2
}
